{
 "cells": [
  {
   "cell_type": "markdown",
   "id": "1ff856cb",
   "metadata": {},
   "source": [
    "# Question 2"
   ]
  },
  {
   "cell_type": "code",
   "execution_count": 1,
   "id": "0bb03b3b",
   "metadata": {},
   "outputs": [],
   "source": [
    "def file_len(file_name):\n",
    "    try:\n",
    "        file = open(file_name, \"r\")\n",
    "        contents=file.read()\n",
    "        print('Given file length is : '+str(len(contents)))\n",
    "        file.close()\n",
    "    except:\n",
    "            print('File '+file_name+' not found')"
   ]
  },
  {
   "cell_type": "code",
   "execution_count": 2,
   "id": "9e878cba",
   "metadata": {},
   "outputs": [
    {
     "name": "stdout",
     "output_type": "stream",
     "text": [
      "Given file length is : 123\n"
     ]
    }
   ],
   "source": [
    "file_len(\"Filelength.txt\")"
   ]
  },
  {
   "cell_type": "code",
   "execution_count": 3,
   "id": "2925b6c9",
   "metadata": {},
   "outputs": [
    {
     "name": "stdout",
     "output_type": "stream",
     "text": [
      "File ilelength.py not found\n"
     ]
    }
   ],
   "source": [
    "file_len(\"ilelength.py\")"
   ]
  },
  {
   "cell_type": "code",
   "execution_count": null,
   "id": "cadc76b1",
   "metadata": {},
   "outputs": [],
   "source": []
  }
 ],
 "metadata": {
  "kernelspec": {
   "display_name": "Python 3 (ipykernel)",
   "language": "python",
   "name": "python3"
  },
  "language_info": {
   "codemirror_mode": {
    "name": "ipython",
    "version": 3
   },
   "file_extension": ".py",
   "mimetype": "text/x-python",
   "name": "python",
   "nbconvert_exporter": "python",
   "pygments_lexer": "ipython3",
   "version": "3.9.12"
  }
 },
 "nbformat": 4,
 "nbformat_minor": 5
}
